{
  "nbformat": 4,
  "nbformat_minor": 0,
  "metadata": {
    "colab": {
      "name": "Predicting how long lockdowns will last in multiple locations",
      "provenance": [],
      "collapsed_sections": [],
      "include_colab_link": true
    },
    "kernelspec": {
      "name": "python3",
      "display_name": "Python 3"
    }
  },
  "cells": [
    {
      "cell_type": "markdown",
      "metadata": {
        "id": "view-in-github",
        "colab_type": "text"
      },
      "source": [
        "<a href=\"https://colab.research.google.com/github/oughtinc/ergo/blob/notebooks-readme/covid-19-lockdowns.ipynb\" target=\"_parent\"><img src=\"https://colab.research.google.com/assets/colab-badge.svg\" alt=\"Open In Colab\"/></a>"
      ]
    },
    {
      "cell_type": "markdown",
      "metadata": {
        "id": "IoRc6peS7ek-",
        "colab_type": "text"
      },
      "source": [
        "# Setup"
      ]
    },
    {
      "cell_type": "code",
      "metadata": {
        "id": "fNamgx5_68LI",
        "colab_type": "code",
        "outputId": "d63c5c22-a969-4287-93f8-a4b481ac238a",
        "colab": {
          "base_uri": "https://localhost:8080/",
          "height": 347
        }
      },
      "source": [
        "!pip install --quiet poetry  # Fixes https://github.com/python-poetry/poetry/issues/532\n",
        "!pip install --quiet git+https://github.com/oughtinc/ergo.git@8c59f21b294436b5b895c6c70d8e2b6174e8fbcb\n",
        "!pip install --quiet pendulum seaborn"
      ],
      "execution_count": 0,
      "outputs": [
        {
          "output_type": "stream",
          "text": [
            "\u001b[K     |████████████████████████████████| 225kB 2.8MB/s \n",
            "\u001b[K     |████████████████████████████████| 92kB 9.9MB/s \n",
            "\u001b[K     |████████████████████████████████| 112kB 51.0MB/s \n",
            "\u001b[K     |████████████████████████████████| 61kB 7.0MB/s \n",
            "\u001b[K     |████████████████████████████████| 61kB 6.7MB/s \n",
            "\u001b[K     |████████████████████████████████| 2.7MB 47.2MB/s \n",
            "\u001b[?25h  Building wheel for pyrsistent (setup.py) ... \u001b[?25l\u001b[?25hdone\n",
            "  Installing build dependencies ... \u001b[?25l\u001b[?25hdone\n",
            "  Getting requirements to build wheel ... \u001b[?25l\u001b[?25hdone\n",
            "    Preparing wheel metadata ... \u001b[?25l\u001b[?25hdone\n",
            "\u001b[K     |████████████████████████████████| 153kB 2.7MB/s \n",
            "\u001b[K     |████████████████████████████████| 61kB 6.2MB/s \n",
            "\u001b[K     |████████████████████████████████| 522kB 47.2MB/s \n",
            "\u001b[K     |████████████████████████████████| 51kB 6.4MB/s \n",
            "\u001b[K     |████████████████████████████████| 29.3MB 109kB/s \n",
            "\u001b[K     |████████████████████████████████| 491kB 47.3MB/s \n",
            "\u001b[?25h  Building wheel for ergo (PEP 517) ... \u001b[?25l\u001b[?25hdone\n",
            "  Building wheel for country-converter (setup.py) ... \u001b[?25l\u001b[?25hdone\n",
            "\u001b[31mERROR: chainer 6.5.0 has requirement typing-extensions<=3.6.6, but you'll have typing-extensions 3.7.4.2 which is incompatible.\u001b[0m\n"
          ],
          "name": "stdout"
        }
      ]
    },
    {
      "cell_type": "code",
      "metadata": {
        "id": "fe-8LSpW8RHT",
        "colab_type": "code",
        "outputId": "4c8b1433-7bb7-4c55-c670-eb2196b02ee5",
        "colab": {
          "base_uri": "https://localhost:8080/",
          "height": 52
        }
      },
      "source": [
        "import requests\n",
        "import torch\n",
        "import io\n",
        "import zipfile\n",
        "import os\n",
        "import ergo\n",
        "import pendulum\n",
        "import requests\n",
        "import scipy.stats\n",
        "\n",
        "import seaborn as sns \n",
        "import pandas as pd\n",
        "import numpy as np\n",
        "\n",
        "from types import SimpleNamespace\n",
        "from typing import List\n",
        "from pendulum import Date, Duration\n",
        "from matplotlib import pyplot as plt\n",
        "from ergo import logistic"
      ],
      "execution_count": 0,
      "outputs": [
        {
          "output_type": "stream",
          "text": [
            "/usr/local/lib/python3.6/dist-packages/statsmodels/tools/_testing.py:19: FutureWarning: pandas.util.testing is deprecated. Use the functions in the public API at pandas.testing instead.\n",
            "  import pandas.util.testing as tm\n"
          ],
          "name": "stderr"
        }
      ]
    },
    {
      "cell_type": "markdown",
      "metadata": {
        "id": "GTNqtsZuWkMc",
        "colab_type": "text"
      },
      "source": [
        "Log into a Metaculus account\n",
        "\n",
        "If running in a collab notebook, please enter your Metaculus credentials here "
      ]
    },
    {
      "cell_type": "code",
      "metadata": {
        "id": "u83lMRLBWjRG",
        "colab_type": "code",
        "outputId": "23d4a0a5-53f5-43a0-b984-69a8e2edde09",
        "colab": {
          "base_uri": "https://localhost:8080/",
          "height": 34
        }
      },
      "source": [
        "def is_local():\n",
        "  try:\n",
        "    %env USER\n",
        "    return True\n",
        "  except:\n",
        "    return False\n",
        "\n",
        "metaculus_api = \"pandemic\"\n",
        "\n",
        "if is_local():\n",
        "  from dotenv import load_dotenv\n",
        "  load_dotenv() \n",
        "  metaculus = ergo.Metaculus(username=os.getenv(\"METACULUS_USERNAME\"), password=os.getenv(\"METACULUS_PASSWORD\"), api_domain=metaculus_api)\n",
        "else: \n",
        "  try:    \n",
        "    metaculus = ergo.Metaculus(username=\"\", password=\"\", api_domain=metaculus_api)  \n",
        "  except: \n",
        "    print(f'WARNING, You will need to enter your metaculus credentials in this cell')\n"
      ],
      "execution_count": 0,
      "outputs": [
        {
          "output_type": "stream",
          "text": [
            "WARNING, You will need to enter your metaculus credentials in this cell\n"
          ],
          "name": "stdout"
        }
      ]
    },
    {
      "cell_type": "markdown",
      "metadata": {
        "id": "hMekY6vq8o99",
        "colab_type": "text"
      },
      "source": [
        "# Questions\n",
        "\n",
        "Here are the question we want to forecast:"
      ]
    },
    {
      "cell_type": "code",
      "metadata": {
        "id": "9P09v3y38zQI",
        "colab_type": "code",
        "outputId": "de763c66-b66f-4311-8a91-26131fb12828",
        "colab": {
          "base_uri": "https://localhost:8080/",
          "height": 112
        }
      },
      "source": [
        "\n",
        "question_ids = [\n",
        "  3935,\n",
        "  3948,\n",
        "  3952,\n",
        "  3951,\n",
        "  3946,\n",
        "  3942,\n",
        "  3941,\n",
        "  3939,\n",
        "  3937,\n",
        "  3936,\n",
        "  3938,\n",
        "  3940 \n",
        "]\n",
        "question_names = [\n",
        "    \"The United Kingdom\",\n",
        "    \"France\",\n",
        "    \"The State of New York\",\n",
        "    \"New Zealand\",\n",
        "    \"India\",\n",
        "    \"South Africa\",\n",
        "    \"Poland\",\n",
        "    \"The State of California\",\n",
        "    \"Italy\",\n",
        "    \"Spain\",\n",
        "    \"São Paulo (Brazil)\",\n",
        "    \"The Province of Punjab (Pakistan)\"\n",
        "]\n",
        "\n",
        "# we will focus on New York and California now\n",
        "question_ids = [question_ids[i] for i in [2,7]]\n",
        "question_names = [question_names[i] for i in [2,7]]\n",
        "\n",
        "areas = question_names\n",
        "questions = [metaculus.get_question(id, name=name) for (name, id) in zip(question_names, question_ids)]\n",
        "ergo.MetaculusQuestion.to_dataframe(questions)"
      ],
      "execution_count": 0,
      "outputs": [
        {
          "output_type": "execute_result",
          "data": {
            "text/html": [
              "<div>\n",
              "<style scoped>\n",
              "    .dataframe tbody tr th:only-of-type {\n",
              "        vertical-align: middle;\n",
              "    }\n",
              "\n",
              "    .dataframe tbody tr th {\n",
              "        vertical-align: top;\n",
              "    }\n",
              "\n",
              "    .dataframe thead th {\n",
              "        text-align: right;\n",
              "    }\n",
              "</style>\n",
              "<table border=\"1\" class=\"dataframe\">\n",
              "  <thead>\n",
              "    <tr style=\"text-align: right;\">\n",
              "      <th></th>\n",
              "      <th>id</th>\n",
              "      <th>name</th>\n",
              "      <th>title</th>\n",
              "      <th>resolve_time</th>\n",
              "    </tr>\n",
              "  </thead>\n",
              "  <tbody>\n",
              "    <tr>\n",
              "      <th>0</th>\n",
              "      <td>3952</td>\n",
              "      <td>The State of New York</td>\n",
              "      <td>When will the current total lockdown in the St...</td>\n",
              "      <td>2021-09-26 22:00:00+00:00</td>\n",
              "    </tr>\n",
              "    <tr>\n",
              "      <th>1</th>\n",
              "      <td>3939</td>\n",
              "      <td>The State of California</td>\n",
              "      <td>When will the current lockdown in the state of...</td>\n",
              "      <td>2021-09-26 22:00:00+00:00</td>\n",
              "    </tr>\n",
              "  </tbody>\n",
              "</table>\n",
              "</div>"
            ],
            "text/plain": [
              "     id  ...              resolve_time\n",
              "0  3952  ... 2021-09-26 22:00:00+00:00\n",
              "1  3939  ... 2021-09-26 22:00:00+00:00\n",
              "\n",
              "[2 rows x 4 columns]"
            ]
          },
          "metadata": {
            "tags": []
          },
          "execution_count": 7
        }
      ]
    },
    {
      "cell_type": "markdown",
      "metadata": {
        "id": "uaLnxSg29ZuE",
        "colab_type": "text"
      },
      "source": [
        "# Data\n",
        "\n"
      ]
    },
    {
      "cell_type": "markdown",
      "metadata": {
        "id": "aNh_1r6X-KTi",
        "colab_type": "text"
      },
      "source": [
        "## Lockdown Information and Assumptions\n",
        "\n",
        "\n",
        "*  intensity---a 1-5 corresponding to the severity/degree of adherence of the social distancing, with 5 being the most strictly observed/enforced social distancing \n",
        "*  re-evaluation---date at which government said they would re-assess lockdown\n",
        "\n",
        "\n",
        "**TODO** consider factoring out assumptions and factual data\n",
        "\n",
        "\n",
        "\n"
      ]
    },
    {
      "cell_type": "code",
      "metadata": {
        "id": "LRu-8Bvf-_69",
        "colab_type": "code",
        "colab": {}
      },
      "source": [
        "Area = dict\n",
        "assumptions = SimpleNamespace()\n",
        "\n",
        "assumptions.lockdowns = {\n",
        "  \"New York\" : {\n",
        "    \"data_key\" : \"New York\",\n",
        "    \"question_name\" : \"The State of New York\",\n",
        "    \"start\": pendulum.Date(2020, 3, 21),\n",
        "    \"intensity\": 3,\n",
        "    \"end\": None #pendulum.Date(2020, X, X)\n",
        "  },\n",
        "  \"California\" : {\n",
        "    \"data_key\" : \"California\",\n",
        "    \"question_name\" : \"The State of California\", \n",
        "    \"start\": pendulum.Date(2020, 3, 22),\n",
        "    \"end\": None #pendulum.Date(2020, X, X)\n",
        "  },\n",
        "  \"United Kingdom\": {\n",
        "    \"data_key\" : \"United Kingdom\",\n",
        "    \"question_name\" : \"The United Kingdom\", \n",
        "    \"start\": pendulum.Date(2020, 3, 23),\n",
        "    \"re_evaluated\": None, \n",
        "    \"intensity\": 3, \n",
        "    \"end\": None #pendulum.Date(2020, X, X)\n",
        "  },\n",
        "  \"France\": {\n",
        "    \"data_key\" : \"France\",\n",
        "    \"question_name\" : \"France\", \n",
        "    \"start\": pendulum.Date(2020, 3, 17),\n",
        "    \"re_evaluated\": pendulum.Date(2020, 4, 1),\n",
        "    \"intensity\": 3, \n",
        "    \"end\": None #pendulum.Date(2020, X, X)\n",
        "  },\n",
        "  \"Poland\": {\n",
        "    \"data_key\": \"Poland\",\n",
        "    \"question_name\" : \"Poland\",\n",
        "    \"start\": pendulum.Date(2020, 3, 25),\n",
        "    \"re_evaluated\": pendulum.Date(2020, 4, 11),\n",
        "    \"end\": None #pendulum.Date(2020, X, X)\n",
        "  },\n",
        "  \"Italy\": {\n",
        "    \"data_key\": \"Italy\",\n",
        "    \"question_name\" : \"Italy\",\n",
        "    \"start\": pendulum.Date(2020, 3, 23),\n",
        "    \"end\": None #pendulum.Date(2020, X, X)\n",
        "  }\n",
        "}\n",
        "# Spain is Resolved!\n",
        "#   \"Spain\": {\n",
        "#     \"data_key\": \"Spain\",\n",
        "#     \"question_name\" : \"Spain\",\n",
        "#     \"start\": pendulum.Date(2020, 3, 15),\n",
        "#     \"end\": None pendulum.Date(2020, 4, 13)\n",
        "#   }\n",
        "\n",
        " "
      ],
      "execution_count": 0,
      "outputs": []
    },
    {
      "cell_type": "markdown",
      "metadata": {
        "id": "N_u99mIa92-x",
        "colab_type": "text"
      },
      "source": [
        "# Data\n",
        "\n",
        "We now have predictions from http://www.healthdata.org/covid/data-downloads\n",
        "\n",
        "***TODO*** if something like this is going to persist, then consider migrating to ergo/data/covid19.py"
      ]
    },
    {
      "cell_type": "markdown",
      "metadata": {
        "id": "9mQE0d8eobYd",
        "colab_type": "text"
      },
      "source": [
        "Get Data"
      ]
    },
    {
      "cell_type": "code",
      "metadata": {
        "id": "QckBjQT5oidv",
        "colab_type": "code",
        "colab": {}
      },
      "source": [
        "url=\"https://ihmecovid19storage.blob.core.windows.net/latest/ihme-covid19.zip\"\n",
        "\n",
        "\n",
        "def download_extract_zip(url):\n",
        "    \"\"\"\n",
        "    Download a ZIP file and extract its contents in memory\n",
        "    yields (filename, file-like object) pairs\n",
        "    \"\"\"\n",
        "    response = requests.get(url)\n",
        "    with zipfile.ZipFile(io.BytesIO(response.content)) as thezip:\n",
        "        for zipinfo in thezip.infolist():\n",
        "            with thezip.open(zipinfo) as thefile:\n",
        "                yield zipinfo.filename, thefile\n",
        "\n",
        "for name, xfile in download_extract_zip(url):\n",
        "    if os.path.basename(name) ==\"Hospitalization_all_locs.csv\":\n",
        "        infections_df = pd.read_csv(xfile)\n"
      ],
      "execution_count": 0,
      "outputs": []
    },
    {
      "cell_type": "markdown",
      "metadata": {
        "id": "PiixWFjIo3o2",
        "colab_type": "text"
      },
      "source": [
        "Clean and Enhance Data\n",
        "\n",
        "**variable description**\n",
        "* admis_mean = daily # of admissions to hospital\n",
        "* allbed_mean = cumsum of admis_mean\n",
        "\n",
        "\n"
      ]
    },
    {
      "cell_type": "code",
      "metadata": {
        "id": "FyiJSICGo7xR",
        "colab_type": "code",
        "outputId": "e5761bd6-d060-47a3-a6e1-b469737516ae",
        "colab": {
          "base_uri": "https://localhost:8080/",
          "height": 468
        }
      },
      "source": [
        "#filter data        \n",
        "infections_df = infections_df.loc[infections_df['location_name'].isin([\"New York\", \"California\", \"United Kingdom\", \"France\", \"Poland\",  \"Italy\"]),\n",
        "                                  ['location_name', 'date', 'admis_mean', 'newICU_mean', 'deaths_mean', 'totdea_mean', 'allbed_mean', 'ICUbed_mean', 'bedover_mean', 'icuover_mean']]\n",
        "\n",
        "\n",
        "# calculate days from lockdown\n",
        "def calulate_days_from_lockdown_start(df: pd.core.frame.DataFrame):\n",
        "    lockdown_start = get_assumptions(df['location_name'])['start']\n",
        "    return lockdown_start.diff(pendulum.from_format(df['date'], 'YYYY-MM-DD').date(),\n",
        "                               False\n",
        "                               ).in_days()\n",
        "    \n",
        "\n",
        "infections_df['days_from_lockdown'] = infections_df.apply(lambda x: calulate_days_from_lockdown_start(x), axis=1)\n",
        "\n",
        "# calculate cumulative addmissions\n",
        "infections_df['admis_cum'] = infections_df['admis_mean'].cumsum() \n",
        "\n",
        "# calculate doubling rate\n",
        "infections_df['doubling_rate_in_days'] = infections_df['admis_cum'] / infections_df['admis_mean']\n",
        "\n",
        "# calculate the new cases as a percentage of previous total\n",
        "infections_df['progression'] =  infections_df['admis_cum'] / infections_df['admis_mean']\n",
        "infections_df['progression'] = infections_df['progression'].apply(lambda x: min(x, 365)) # we don't care about doubling rates longer than a year (at least)\n",
        "\n",
        "# remove all NAs\n",
        "infections_df.fillna(0)\n",
        "\n",
        "# drop first day without ability to lag\n",
        "#infections_df.drop(infections_df.index[0], inplace=True) \n",
        "\n",
        "pd.set_option('display.max_rows', None)"
      ],
      "execution_count": 0,
      "outputs": [
        {
          "output_type": "stream",
          "text": [
            "No assumptions for data key: United Kingdom\n"
          ],
          "name": "stdout"
        },
        {
          "output_type": "error",
          "ename": "TypeError",
          "evalue": "ignored",
          "traceback": [
            "\u001b[0;31m---------------------------------------------------------------------------\u001b[0m",
            "\u001b[0;31mTypeError\u001b[0m                                 Traceback (most recent call last)",
            "\u001b[0;32m<ipython-input-48-f9e6a5da1e60>\u001b[0m in \u001b[0;36m<module>\u001b[0;34m()\u001b[0m\n\u001b[1;32m     11\u001b[0m \u001b[0;34m\u001b[0m\u001b[0m\n\u001b[1;32m     12\u001b[0m \u001b[0;34m\u001b[0m\u001b[0m\n\u001b[0;32m---> 13\u001b[0;31m \u001b[0minfections_df\u001b[0m\u001b[0;34m[\u001b[0m\u001b[0;34m'days_from_lockdown'\u001b[0m\u001b[0;34m]\u001b[0m \u001b[0;34m=\u001b[0m \u001b[0minfections_df\u001b[0m\u001b[0;34m.\u001b[0m\u001b[0mapply\u001b[0m\u001b[0;34m(\u001b[0m\u001b[0;32mlambda\u001b[0m \u001b[0mx\u001b[0m\u001b[0;34m:\u001b[0m \u001b[0mcalulate_days_from_lockdown_start\u001b[0m\u001b[0;34m(\u001b[0m\u001b[0mx\u001b[0m\u001b[0;34m)\u001b[0m\u001b[0;34m,\u001b[0m \u001b[0maxis\u001b[0m\u001b[0;34m=\u001b[0m\u001b[0;36m1\u001b[0m\u001b[0;34m)\u001b[0m\u001b[0;34m\u001b[0m\u001b[0;34m\u001b[0m\u001b[0m\n\u001b[0m\u001b[1;32m     14\u001b[0m \u001b[0;34m\u001b[0m\u001b[0m\n\u001b[1;32m     15\u001b[0m \u001b[0;31m# calculate cumulative addmissions\u001b[0m\u001b[0;34m\u001b[0m\u001b[0;34m\u001b[0m\u001b[0;34m\u001b[0m\u001b[0m\n",
            "\u001b[0;32m/usr/local/lib/python3.6/dist-packages/pandas/core/frame.py\u001b[0m in \u001b[0;36mapply\u001b[0;34m(self, func, axis, raw, result_type, args, **kwds)\u001b[0m\n\u001b[1;32m   6876\u001b[0m             \u001b[0mkwds\u001b[0m\u001b[0;34m=\u001b[0m\u001b[0mkwds\u001b[0m\u001b[0;34m,\u001b[0m\u001b[0;34m\u001b[0m\u001b[0;34m\u001b[0m\u001b[0m\n\u001b[1;32m   6877\u001b[0m         )\n\u001b[0;32m-> 6878\u001b[0;31m         \u001b[0;32mreturn\u001b[0m \u001b[0mop\u001b[0m\u001b[0;34m.\u001b[0m\u001b[0mget_result\u001b[0m\u001b[0;34m(\u001b[0m\u001b[0;34m)\u001b[0m\u001b[0;34m\u001b[0m\u001b[0;34m\u001b[0m\u001b[0m\n\u001b[0m\u001b[1;32m   6879\u001b[0m \u001b[0;34m\u001b[0m\u001b[0m\n\u001b[1;32m   6880\u001b[0m     \u001b[0;32mdef\u001b[0m \u001b[0mapplymap\u001b[0m\u001b[0;34m(\u001b[0m\u001b[0mself\u001b[0m\u001b[0;34m,\u001b[0m \u001b[0mfunc\u001b[0m\u001b[0;34m)\u001b[0m \u001b[0;34m->\u001b[0m \u001b[0;34m\"DataFrame\"\u001b[0m\u001b[0;34m:\u001b[0m\u001b[0;34m\u001b[0m\u001b[0;34m\u001b[0m\u001b[0m\n",
            "\u001b[0;32m/usr/local/lib/python3.6/dist-packages/pandas/core/apply.py\u001b[0m in \u001b[0;36mget_result\u001b[0;34m(self)\u001b[0m\n\u001b[1;32m    184\u001b[0m             \u001b[0;32mreturn\u001b[0m \u001b[0mself\u001b[0m\u001b[0;34m.\u001b[0m\u001b[0mapply_raw\u001b[0m\u001b[0;34m(\u001b[0m\u001b[0;34m)\u001b[0m\u001b[0;34m\u001b[0m\u001b[0;34m\u001b[0m\u001b[0m\n\u001b[1;32m    185\u001b[0m \u001b[0;34m\u001b[0m\u001b[0m\n\u001b[0;32m--> 186\u001b[0;31m         \u001b[0;32mreturn\u001b[0m \u001b[0mself\u001b[0m\u001b[0;34m.\u001b[0m\u001b[0mapply_standard\u001b[0m\u001b[0;34m(\u001b[0m\u001b[0;34m)\u001b[0m\u001b[0;34m\u001b[0m\u001b[0;34m\u001b[0m\u001b[0m\n\u001b[0m\u001b[1;32m    187\u001b[0m \u001b[0;34m\u001b[0m\u001b[0m\n\u001b[1;32m    188\u001b[0m     \u001b[0;32mdef\u001b[0m \u001b[0mapply_empty_result\u001b[0m\u001b[0;34m(\u001b[0m\u001b[0mself\u001b[0m\u001b[0;34m)\u001b[0m\u001b[0;34m:\u001b[0m\u001b[0;34m\u001b[0m\u001b[0;34m\u001b[0m\u001b[0m\n",
            "\u001b[0;32m/usr/local/lib/python3.6/dist-packages/pandas/core/apply.py\u001b[0m in \u001b[0;36mapply_standard\u001b[0;34m(self)\u001b[0m\n\u001b[1;32m    294\u001b[0m             \u001b[0;32mtry\u001b[0m\u001b[0;34m:\u001b[0m\u001b[0;34m\u001b[0m\u001b[0;34m\u001b[0m\u001b[0m\n\u001b[1;32m    295\u001b[0m                 result = libreduction.compute_reduction(\n\u001b[0;32m--> 296\u001b[0;31m                     \u001b[0mvalues\u001b[0m\u001b[0;34m,\u001b[0m \u001b[0mself\u001b[0m\u001b[0;34m.\u001b[0m\u001b[0mf\u001b[0m\u001b[0;34m,\u001b[0m \u001b[0maxis\u001b[0m\u001b[0;34m=\u001b[0m\u001b[0mself\u001b[0m\u001b[0;34m.\u001b[0m\u001b[0maxis\u001b[0m\u001b[0;34m,\u001b[0m \u001b[0mdummy\u001b[0m\u001b[0;34m=\u001b[0m\u001b[0mdummy\u001b[0m\u001b[0;34m,\u001b[0m \u001b[0mlabels\u001b[0m\u001b[0;34m=\u001b[0m\u001b[0mlabels\u001b[0m\u001b[0;34m\u001b[0m\u001b[0;34m\u001b[0m\u001b[0m\n\u001b[0m\u001b[1;32m    297\u001b[0m                 )\n\u001b[1;32m    298\u001b[0m             \u001b[0;32mexcept\u001b[0m \u001b[0mValueError\u001b[0m \u001b[0;32mas\u001b[0m \u001b[0merr\u001b[0m\u001b[0;34m:\u001b[0m\u001b[0;34m\u001b[0m\u001b[0;34m\u001b[0m\u001b[0m\n",
            "\u001b[0;32mpandas/_libs/reduction.pyx\u001b[0m in \u001b[0;36mpandas._libs.reduction.compute_reduction\u001b[0;34m()\u001b[0m\n",
            "\u001b[0;32mpandas/_libs/reduction.pyx\u001b[0m in \u001b[0;36mpandas._libs.reduction.Reducer.get_result\u001b[0;34m()\u001b[0m\n",
            "\u001b[0;32m<ipython-input-48-f9e6a5da1e60>\u001b[0m in \u001b[0;36m<lambda>\u001b[0;34m(x)\u001b[0m\n\u001b[1;32m     11\u001b[0m \u001b[0;34m\u001b[0m\u001b[0m\n\u001b[1;32m     12\u001b[0m \u001b[0;34m\u001b[0m\u001b[0m\n\u001b[0;32m---> 13\u001b[0;31m \u001b[0minfections_df\u001b[0m\u001b[0;34m[\u001b[0m\u001b[0;34m'days_from_lockdown'\u001b[0m\u001b[0;34m]\u001b[0m \u001b[0;34m=\u001b[0m \u001b[0minfections_df\u001b[0m\u001b[0;34m.\u001b[0m\u001b[0mapply\u001b[0m\u001b[0;34m(\u001b[0m\u001b[0;32mlambda\u001b[0m \u001b[0mx\u001b[0m\u001b[0;34m:\u001b[0m \u001b[0mcalulate_days_from_lockdown_start\u001b[0m\u001b[0;34m(\u001b[0m\u001b[0mx\u001b[0m\u001b[0;34m)\u001b[0m\u001b[0;34m,\u001b[0m \u001b[0maxis\u001b[0m\u001b[0;34m=\u001b[0m\u001b[0;36m1\u001b[0m\u001b[0;34m)\u001b[0m\u001b[0;34m\u001b[0m\u001b[0;34m\u001b[0m\u001b[0m\n\u001b[0m\u001b[1;32m     14\u001b[0m \u001b[0;34m\u001b[0m\u001b[0m\n\u001b[1;32m     15\u001b[0m \u001b[0;31m# calculate cumulative addmissions\u001b[0m\u001b[0;34m\u001b[0m\u001b[0;34m\u001b[0m\u001b[0;34m\u001b[0m\u001b[0m\n",
            "\u001b[0;32m<ipython-input-48-f9e6a5da1e60>\u001b[0m in \u001b[0;36mcalulate_days_from_lockdown_start\u001b[0;34m(df)\u001b[0m\n\u001b[1;32m      5\u001b[0m \u001b[0;31m# calculate days from lockdown\u001b[0m\u001b[0;34m\u001b[0m\u001b[0;34m\u001b[0m\u001b[0;34m\u001b[0m\u001b[0m\n\u001b[1;32m      6\u001b[0m \u001b[0;32mdef\u001b[0m \u001b[0mcalulate_days_from_lockdown_start\u001b[0m\u001b[0;34m(\u001b[0m\u001b[0mdf\u001b[0m\u001b[0;34m:\u001b[0m \u001b[0mpd\u001b[0m\u001b[0;34m.\u001b[0m\u001b[0mcore\u001b[0m\u001b[0;34m.\u001b[0m\u001b[0mframe\u001b[0m\u001b[0;34m.\u001b[0m\u001b[0mDataFrame\u001b[0m\u001b[0;34m)\u001b[0m\u001b[0;34m:\u001b[0m\u001b[0;34m\u001b[0m\u001b[0;34m\u001b[0m\u001b[0m\n\u001b[0;32m----> 7\u001b[0;31m     \u001b[0mlockdown_start\u001b[0m \u001b[0;34m=\u001b[0m \u001b[0mget_assumptions\u001b[0m\u001b[0;34m(\u001b[0m\u001b[0mdf\u001b[0m\u001b[0;34m[\u001b[0m\u001b[0;34m'location_name'\u001b[0m\u001b[0;34m]\u001b[0m\u001b[0;34m)\u001b[0m\u001b[0;34m[\u001b[0m\u001b[0;34m'start'\u001b[0m\u001b[0;34m]\u001b[0m\u001b[0;34m\u001b[0m\u001b[0;34m\u001b[0m\u001b[0m\n\u001b[0m\u001b[1;32m      8\u001b[0m     return lockdown_start.diff(pendulum.from_format(df['date'], 'YYYY-MM-DD').date(),\n\u001b[1;32m      9\u001b[0m                                \u001b[0;32mFalse\u001b[0m\u001b[0;34m\u001b[0m\u001b[0;34m\u001b[0m\u001b[0m\n",
            "\u001b[0;31mTypeError\u001b[0m: 'NoneType' object is not subscriptable"
          ]
        }
      ]
    },
    {
      "cell_type": "code",
      "metadata": {
        "id": "0ppWYsAXq4eh",
        "colab_type": "code",
        "outputId": "08e2b439-399e-4879-f564-0b981276b1c8",
        "colab": {
          "base_uri": "https://localhost:8080/",
          "height": 52
        }
      },
      "source": [
        "#filter data        \n",
        "infections_df = infections_df.loc[infections_df['location_name'].isin([\"New York\", \"California\", \"United Kingdom\", \"France\", \"Poland\",  \"Italy\"]),\n",
        "                                  ['location_name', 'date', 'admis_mean', 'newICU_mean', 'deaths_mean', 'totdea_mean', 'allbed_mean', 'ICUbed_mean', 'bedover_mean', 'icuover_mean']]\n",
        "\n",
        "infections_df['location_name'].unique "
      ],
      "execution_count": 0,
      "outputs": [
        {
          "output_type": "execute_result",
          "data": {
            "text/plain": [
              "array(['United Kingdom', 'Poland', 'New York', 'Italy', 'France',\n",
              "       'California'], dtype=object)"
            ]
          },
          "metadata": {
            "tags": []
          },
          "execution_count": 47
        }
      ]
    },
    {
      "cell_type": "markdown",
      "metadata": {
        "id": "aILJI2UK_wif",
        "colab_type": "text"
      },
      "source": [
        "Examine the evolution of the rate of the spread of the infection"
      ]
    },
    {
      "cell_type": "code",
      "metadata": {
        "id": "fV8CiGUcrFaW",
        "colab_type": "code",
        "outputId": "1bd4cfee-0350-4a05-ab5a-cc689d7d8cae",
        "colab": {
          "base_uri": "https://localhost:8080/",
          "height": 401
        }
      },
      "source": [
        "g = sns.relplot(x='days_from_lockdown', y='admis_mean', hue=\"location_name\", data=infections_df)\n",
        "g.set(xlabel='Days since lockdown', ylabel='New hospital admissions', title='Progression of hospital addmissions')\n",
        "plt.axvline(0, color='k', linestyle='--')\n",
        "plt.axvline(15, color='k', linestyle='--')"
      ],
      "execution_count": 0,
      "outputs": [
        {
          "output_type": "execute_result",
          "data": {
            "text/plain": [
              "<matplotlib.lines.Line2D at 0x7fb2a4da30f0>"
            ]
          },
          "metadata": {
            "tags": []
          },
          "execution_count": 11
        },
        {
          "output_type": "display_data",
          "data": {
            "image/png": "[encoded data removed]",
            "text/plain": [
              "<Figure size 468.875x360 with 1 Axes>"
            ]
          },
          "metadata": {
            "tags": [],
            "needs_background": "light"
          }
        }
      ]
    },
    {
      "cell_type": "code",
      "metadata": {
        "id": "InfRzbBJyFx-",
        "colab_type": "code",
        "outputId": "44c722c4-1f2d-4d01-ce81-3925c0e15d8b",
        "colab": {
          "base_uri": "https://localhost:8080/",
          "height": 385
        }
      },
      "source": [
        "# Would be cool to figure out how to unbind axes in facet plots (Like R's free_y)\n",
        "\n",
        "g = sns.relplot(x='days_from_lockdown', y='progression', hue=\"location_name\", col=\"location_name\", data=infections_df)\n",
        "g.set(xlabel='Days since lockdown', ylabel='Doubling rate in days')"
      ],
      "execution_count": 0,
      "outputs": [
        {
          "output_type": "execute_result",
          "data": {
            "text/plain": [
              "<seaborn.axisgrid.FacetGrid at 0x7fb2a4d89cc0>"
            ]
          },
          "metadata": {
            "tags": []
          },
          "execution_count": 12
        },
        {
          "output_type": "display_data",
          "data": {
            "image/png": "[encoded data removed]",
            "text/plain": [
              "<Figure size 828.875x360 with 2 Axes>"
            ]
          },
          "metadata": {
            "tags": [],
            "needs_background": "light"
          }
        }
      ]
    },
    {
      "cell_type": "markdown",
      "metadata": {
        "id": "8Kiafi4qALYZ",
        "colab_type": "text"
      },
      "source": [
        "# Model"
      ]
    },
    {
      "cell_type": "markdown",
      "metadata": {
        "id": "yUczS7TmBwe8",
        "colab_type": "text"
      },
      "source": [
        "**Approach**\n",
        "\n",
        "Stupid Model 1. The decision to end a lockdown occurs every 7 days from the initial order. The average rate of growth in the infection across the week is considered. As the rate of infection growth approaches 0, the likelihood of suspending the lockdown increases.\n",
        "\n",
        "Conditions to consider adding:\n",
        "\n",
        "* deaths (relative to population)\n",
        "* deaths (realtive to infected)\n",
        "* ratio of recovery to newly infected\n",
        "* % of population has been tested > threshold\n",
        "* complex priors over dates (1st and 15th of month more likely. Perhaps Holiday's)?\n",
        "* depletion of susceptible stock 1 - (Infected + Recovered + Deaths) / population > threshold \n",
        "\n",
        "Ad-Hoc High-level feature spit-balling:\n",
        "* Government Market Orientation \n",
        "* Government Goal --- Signaling Action | Spread Mitigation  "
      ]
    },
    {
      "cell_type": "markdown",
      "metadata": {
        "id": "bFfEkExoDfsY",
        "colab_type": "text"
      },
      "source": [
        "Model"
      ]
    },
    {
      "cell_type": "code",
      "metadata": {
        "id": "18CvFqcYDhGZ",
        "colab_type": "code",
        "colab": {}
      },
      "source": [
        "\n",
        "def model_coarse(area: Area, data: pd.core.frame.DataFrame):\n",
        "  # make sure reasonable things were passed in\n",
        "  if not \"location_name\" in data:\n",
        "    print(f'The data does not have the expected structure')\n",
        "    raise Exception(\"bad data\")\n",
        "  elif not area.get(\"data_key\") in data[\"location_name\"].values:\n",
        "    print(f'There is currently no infection data for {area[\"data_key\"]}')\n",
        "    raise Exception(\"no data\")\n",
        "  elif not area.get(\"start\"):\n",
        "        print(f'There is currently no lockdown for {area[\"data_key\"]}')\n",
        "        raise Exception(\"no lockdown\")\n",
        "      \n",
        "  area_data = data.loc[data[\"location_name\"] == area.get(\"data_key\")]\n",
        "  lockdown_duration = 0\n",
        "  last_weeks_spread_rate = 100\n",
        "  while True:\n",
        "    if (max(area_data['days_from_lockdown']) >= lockdown_duration): # keep using las infection_spread_rate if we run out of data (hack for current data)\n",
        "      infection_spread_rate = np.mean(area_data.loc[(area_data['days_from_lockdown'] >= lockdown_duration) &\n",
        "                                                    (area_data['days_from_lockdown'] < lockdown_duration + 7), 'progression'])\n",
        "    stop_quarantine = ergo.flip(scipy.stats.logistic.pdf(infection_spread_rate, scale = .5) +\n",
        "                                    scipy.stats.logistic.pdf(last_weeks_spread_rate, scale = .5)) \n",
        "    lockdown_duration += 7\n",
        "    last_weeks_spread_rate = infection_spread_rate \n",
        "    if(stop_quarantine):\n",
        "        break\n",
        "\n",
        "\n",
        "  ergo.tag(torch.Tensor([lockdown_duration]), area.get(\"data_key\"))"
      ],
      "execution_count": 0,
      "outputs": []
    },
    {
      "cell_type": "code",
      "metadata": {
        "id": "PlFXEOQLBu-A",
        "colab_type": "code",
        "colab": {}
      },
      "source": [
        "def model(area: Area, data: pd.core.frame.DataFrame):\n",
        "  # make sure reasonable things were passed in\n",
        "  if not \"location_name\" in data:\n",
        "    print(f'The data does not have the expected structure')\n",
        "    raise Exception(\"bad data\")\n",
        "  elif not area.get(\"data_key\") in data[\"location_name\"].values:\n",
        "    print(f'There is currently no infection data for {area[\"data_key\"]}')\n",
        "    raise Exception(\"no data\")\n",
        "  elif not area.get(\"start\"):\n",
        "        print(f'There is currently no lockdown for {area[\"data_key\"]}')\n",
        "        raise Exception(\"no lockdown\")\n",
        "      \n",
        "  area_data = data.loc[data[\"location_name\"] == area.get(\"data_key\")]\n",
        "  lockdown_duration = 0\n",
        "  last_weeks_spread_rate = 100\n",
        "  while True:\n",
        "    lockdown_duration += 1\n",
        "    if (max(area_data['days_from_lockdown']) >= lockdown_duration): # keep using las infection_spread_rate if we run out of data (hack for current data)\n",
        "      infection_spread_rate = np.mean(area_data.loc[(area_data['days_from_lockdown'] > lockdown_duration - 14 ) &\n",
        "                                                    (area_data['days_from_lockdown'] <= lockdown_duration), 'admis_mean'])\n",
        "    stop_quarantine = ergo.flip(scipy.stats.logistic.pdf(infection_spread_rate, scale = .5))\n",
        "    last_weeks_spread_rate = infection_spread_rate \n",
        "    if(stop_quarantine):\n",
        "        break\n",
        "\n",
        "\n",
        "  ergo.tag(torch.Tensor([lockdown_duration]), area.get(\"data_key\"))"
      ],
      "execution_count": 0,
      "outputs": []
    },
    {
      "cell_type": "markdown",
      "metadata": {
        "id": "A64oTGk_DqaU",
        "colab_type": "text"
      },
      "source": [
        "Run Model"
      ]
    },
    {
      "cell_type": "code",
      "metadata": {
        "id": "5m3k9MN2DsKQ",
        "colab_type": "code",
        "outputId": "fbc45d11-6e9a-4402-ffdb-909331c1979a",
        "colab": {
          "base_uri": "https://localhost:8080/",
          "height": 34
        }
      },
      "source": [
        "samples = pd.DataFrame() #unconditioned :/ \n",
        "\n",
        "\n",
        "# This would run it for all questions\n",
        "#for question in questions:\n",
        "#  samples[question.name] = ergo.run(lambda: model(get_assumptions(question), infections_df), num_samples=10000).iloc[:,0]\n",
        "\n",
        "# Let's just look at NY for the moment \n",
        "samples[questions[0].name] = ergo.run(lambda: model(get_assumptions(questions[0]), infections_df), num_samples=5000).iloc[:,0]"
      ],
      "execution_count": 0,
      "outputs": [
        {
          "output_type": "stream",
          "text": [
            "100%|██████████| 5000/5000 [05:57<00:00, 13.98it/s]\n"
          ],
          "name": "stderr"
        }
      ]
    },
    {
      "cell_type": "markdown",
      "metadata": {
        "id": "rgT7Soy4ppDJ",
        "colab_type": "text"
      },
      "source": [
        "We calculated the model in terms of duration in days, let's get that in dates and get it in the question-normalized form\n"
      ]
    },
    {
      "cell_type": "code",
      "metadata": {
        "id": "VB4W7-5Yp4di",
        "colab_type": "code",
        "outputId": "6f934167-8e2d-4b97-9501-35d9afc62aed",
        "colab": {
          "base_uri": "https://localhost:8080/",
          "height": 34
        }
      },
      "source": [
        "for question in questions:\n",
        "  if question.name in samples:\n",
        "    start_date = get_assumptions(question)[\"start\"]\n",
        "    samples[question.name + ' days'] = samples[question.name]\n",
        "    samples[question.name + ' date'] = samples[question.name].apply(lambda x: start_date.add(days=x))\n",
        "    samples[question.name] =  question.normalize_dates(samples[question.name + ' date'])\n"
      ],
      "execution_count": 0,
      "outputs": [
        {
          "output_type": "stream",
          "text": [
            "<class 'pandas.core.series.Series'>\n"
          ],
          "name": "stdout"
        }
      ]
    },
    {
      "cell_type": "code",
      "metadata": {
        "id": "oRssqqi2OZ54",
        "colab_type": "code",
        "colab": {}
      },
      "source": [
        ""
      ],
      "execution_count": 0,
      "outputs": []
    },
    {
      "cell_type": "markdown",
      "metadata": {
        "id": "cj_agUk1D0sa",
        "colab_type": "text"
      },
      "source": [
        "# Evaluate Model\n"
      ]
    },
    {
      "cell_type": "markdown",
      "metadata": {
        "id": "Y8krh5bCD5T3",
        "colab_type": "text"
      },
      "source": [
        "Histogram Day-Space"
      ]
    },
    {
      "cell_type": "code",
      "metadata": {
        "id": "jBu2lZ_Jlgui",
        "colab_type": "code",
        "outputId": "71dec17c-091b-478e-bdad-3e85034bae26",
        "colab": {
          "base_uri": "https://localhost:8080/",
          "height": 296
        }
      },
      "source": [
        "sns.distplot(samples[questions[0].name + ' days'], fit = scipy.stats.logistic)"
      ],
      "execution_count": 0,
      "outputs": [
        {
          "output_type": "execute_result",
          "data": {
            "text/plain": [
              "<matplotlib.axes._subplots.AxesSubplot at 0x7fb2a4d89518>"
            ]
          },
          "metadata": {
            "tags": []
          },
          "execution_count": 17
        },
        {
          "output_type": "display_data",
          "data": {
            "image/png": "[encoded data removed]",
            "text/plain": [
              "<Figure size 432x288 with 1 Axes>"
            ]
          },
          "metadata": {
            "tags": [],
            "needs_background": "light"
          }
        }
      ]
    },
    {
      "cell_type": "markdown",
      "metadata": {
        "id": "kskUfFv3pfzJ",
        "colab_type": "text"
      },
      "source": [
        "Histogram Normalized"
      ]
    },
    {
      "cell_type": "code",
      "metadata": {
        "id": "KvnY6UXSpeff",
        "colab_type": "code",
        "outputId": "a65e1dbf-002f-465b-a5a7-5f2c408d5a78",
        "colab": {
          "base_uri": "https://localhost:8080/",
          "height": 296
        }
      },
      "source": [
        "sns.distplot(samples[questions[0].name], fit = scipy.stats.logistic)"
      ],
      "execution_count": 0,
      "outputs": [
        {
          "output_type": "execute_result",
          "data": {
            "text/plain": [
              "<matplotlib.axes._subplots.AxesSubplot at 0x7fb2a0330f28>"
            ]
          },
          "metadata": {
            "tags": []
          },
          "execution_count": 18
        },
        {
          "output_type": "display_data",
          "data": {
            "image/png": "[encoded data removed]",
            "text/plain": [
              "<Figure size 432x288 with 1 Axes>"
            ]
          },
          "metadata": {
            "tags": [],
            "needs_background": "light"
          }
        }
      ]
    },
    {
      "cell_type": "markdown",
      "metadata": {
        "id": "PUJu2IDCEIt3",
        "colab_type": "text"
      },
      "source": [
        "Summary Stats"
      ]
    },
    {
      "cell_type": "code",
      "metadata": {
        "id": "cyo3GRdWEMPH",
        "colab_type": "code",
        "outputId": "133ee193-5bb5-4ed5-a334-bd4345c3fdc2",
        "colab": {
          "base_uri": "https://localhost:8080/",
          "height": 301
        }
      },
      "source": [
        "samples.describe()"
      ],
      "execution_count": 0,
      "outputs": [
        {
          "output_type": "execute_result",
          "data": {
            "text/html": [
              "<div>\n",
              "<style scoped>\n",
              "    .dataframe tbody tr th:only-of-type {\n",
              "        vertical-align: middle;\n",
              "    }\n",
              "\n",
              "    .dataframe tbody tr th {\n",
              "        vertical-align: top;\n",
              "    }\n",
              "\n",
              "    .dataframe thead th {\n",
              "        text-align: right;\n",
              "    }\n",
              "</style>\n",
              "<table border=\"1\" class=\"dataframe\">\n",
              "  <thead>\n",
              "    <tr style=\"text-align: right;\">\n",
              "      <th></th>\n",
              "      <th>The State of New York</th>\n",
              "      <th>The State of New Yorknormalized</th>\n",
              "    </tr>\n",
              "  </thead>\n",
              "  <tbody>\n",
              "    <tr>\n",
              "      <th>count</th>\n",
              "      <td>5000.000000</td>\n",
              "      <td>5000.000000</td>\n",
              "    </tr>\n",
              "    <tr>\n",
              "      <th>mean</th>\n",
              "      <td>54.549200</td>\n",
              "      <td>0.075858</td>\n",
              "    </tr>\n",
              "    <tr>\n",
              "      <th>std</th>\n",
              "      <td>1.721561</td>\n",
              "      <td>0.002690</td>\n",
              "    </tr>\n",
              "    <tr>\n",
              "      <th>min</th>\n",
              "      <td>50.000000</td>\n",
              "      <td>0.068750</td>\n",
              "    </tr>\n",
              "    <tr>\n",
              "      <th>25%</th>\n",
              "      <td>53.000000</td>\n",
              "      <td>0.073438</td>\n",
              "    </tr>\n",
              "    <tr>\n",
              "      <th>50%</th>\n",
              "      <td>54.000000</td>\n",
              "      <td>0.075000</td>\n",
              "    </tr>\n",
              "    <tr>\n",
              "      <th>75%</th>\n",
              "      <td>55.000000</td>\n",
              "      <td>0.076563</td>\n",
              "    </tr>\n",
              "    <tr>\n",
              "      <th>max</th>\n",
              "      <td>66.000000</td>\n",
              "      <td>0.093750</td>\n",
              "    </tr>\n",
              "  </tbody>\n",
              "</table>\n",
              "</div>"
            ],
            "text/plain": [
              "       The State of New York  The State of New Yorknormalized\n",
              "count            5000.000000                      5000.000000\n",
              "mean               54.549200                         0.075858\n",
              "std                 1.721561                         0.002690\n",
              "min                50.000000                         0.068750\n",
              "25%                53.000000                         0.073438\n",
              "50%                54.000000                         0.075000\n",
              "75%                55.000000                         0.076563\n",
              "max                66.000000                         0.093750"
            ]
          },
          "metadata": {
            "tags": []
          },
          "execution_count": 21
        }
      ]
    },
    {
      "cell_type": "markdown",
      "metadata": {
        "id": "HBhv4BJeESwx",
        "colab_type": "text"
      },
      "source": [
        "# Submit Predictions"
      ]
    },
    {
      "cell_type": "markdown",
      "metadata": {
        "id": "bMjnuX-EKsLK",
        "colab_type": "text"
      },
      "source": [
        "## Submit from sample"
      ]
    },
    {
      "cell_type": "code",
      "metadata": {
        "id": "_oMMVyjxKvWp",
        "colab_type": "code",
        "colab": {}
      },
      "source": [
        "def submit_all():\n",
        "  for question in questions:\n",
        "    if question.name in samples:\n",
        "      try:\n",
        "        params = question.submit_from_samples(samples[question.name])\n",
        "        print(f\"Submitted Logistic{params} for {question.name}\")\n",
        "        print(f\"https://pandemic.metaculus.com{question.page_url}\")\n",
        "      except requests.exceptions.HTTPError as e:\n",
        "        print(f\"Couldn't make prediction for {question.name} -- maybe this question is now closed? See error below.\")\n",
        "        print(e)\n",
        "    else:\n",
        "      print(f\"No predictions for {question.name}\")"
      ],
      "execution_count": 0,
      "outputs": []
    },
    {
      "cell_type": "markdown",
      "metadata": {
        "id": "ogU_clgJ7y_O",
        "colab_type": "text"
      },
      "source": [
        "Submit it!"
      ]
    },
    {
      "cell_type": "code",
      "metadata": {
        "id": "VHUYiGtb71xj",
        "colab_type": "code",
        "outputId": "85e09476-a4a8-4f83-da41-d1e0478250c2",
        "colab": {
          "base_uri": "https://localhost:8080/",
          "height": 69
        }
      },
      "source": [
        "submit_all()"
      ],
      "execution_count": 0,
      "outputs": [
        {
          "output_type": "stream",
          "text": [
            "Submitted Logistic<Response [202]> for The State of New York\n",
            "https://pandemic.metaculus.com/questions/3952/when-will-the-current-total-lockdown-in-the-state-of-new-york-be-lifted-or-reduced-in-intensity/\n",
            "No predictions for The State of California\n"
          ],
          "name": "stdout"
        }
      ]
    },
    {
      "cell_type": "markdown",
      "metadata": {
        "id": "Q-i6S2kPEpCA",
        "colab_type": "text"
      },
      "source": [
        "# Fit Model\n",
        "\n",
        "Metaculus accepts submissions in terms of a mixture of up to 5 logistic distributions. Take the samples from the generative model and infer the best logistic mixture"
      ]
    },
    {
      "cell_type": "code",
      "metadata": {
        "colab_type": "code",
        "id": "38iw_Rr_5Mc7",
        "colab": {}
      },
      "source": [
        "def fit_and_plot(samples, num_components):\n",
        "  learned_mixture_params = logistic.fit_mixture(samples, num_components=num_components)\n",
        "  def sample_logistic_mixture(mixture_params):\n",
        "    i = ergo.categorical(torch.Tensor(mixture_params.probs))\n",
        "    component_params = mixture_params.components[i]\n",
        "    return np.random.logistic(loc=component_params.loc, scale=component_params.scale)\n",
        "  learned_samples = np.array([sample_logistic_mixture(learned_mixture_params) for _ in range(5000)])\n",
        "  ax = sns.distplot(samples, label=\"Target\")\n",
        "  sns.distplot(learned_samples, label=\"Fitted\")\n",
        "  plt.legend()\n",
        "  ax.set(xlabel='Sample value', ylabel='Density')\n",
        "  return learned_mixture_params"
      ],
      "execution_count": 0,
      "outputs": []
    },
    {
      "cell_type": "code",
      "metadata": {
        "id": "duiPmI-dFZP1",
        "colab_type": "code",
        "outputId": "e2fff578-007c-4f99-9d97-a7f0872a0d91",
        "colab": {
          "base_uri": "https://localhost:8080/",
          "height": 371
        }
      },
      "source": [
        "fit_and_plot(samples.iloc[:,0].values, 2)"
      ],
      "execution_count": 0,
      "outputs": [
        {
          "output_type": "stream",
          "text": [
            "\r  0%|          | 0/5000 [00:00<?, ?it/s]/usr/local/lib/python3.6/dist-packages/jax/lib/xla_bridge.py:123: UserWarning: No GPU/TPU found, falling back to CPU.\n",
            "  warnings.warn('No GPU/TPU found, falling back to CPU.')\n",
            "100%|██████████| 5000/5000 [00:18<00:00, 273.18it/s]\n"
          ],
          "name": "stderr"
        },
        {
          "output_type": "execute_result",
          "data": {
            "text/plain": [
              "LogisticMixtureParams(components=[LogisticParams(loc=0.5116737, scale=0.4183891), LogisticParams(loc=0.08080669, scale=0.003948114)], probs=[0.2057126, 0.79428744])"
            ]
          },
          "metadata": {
            "tags": []
          },
          "execution_count": 26
        },
        {
          "output_type": "display_data",
          "data": {
            "image/png": "[encoded data removed]",
            "text/plain": [
              "<Figure size 432x288 with 1 Axes>"
            ]
          },
          "metadata": {
            "tags": [],
            "needs_background": "light"
          }
        }
      ]
    }
  ]
}